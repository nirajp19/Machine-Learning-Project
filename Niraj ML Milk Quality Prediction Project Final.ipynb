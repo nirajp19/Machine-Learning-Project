{
 "cells": [
  {
   "cell_type": "markdown",
   "id": "276cc1cd",
   "metadata": {},
   "source": [
    "##                                               Milk Quality Prediction \n",
    "This dataset is manually collected from observations. It helps us to build machine learning models to predict the quality of milk."
   ]
  },
  {
   "cell_type": "code",
   "execution_count": 1,
   "id": "c1568c38",
   "metadata": {},
   "outputs": [],
   "source": [
    "import pandas as pd\n",
    "import numpy as np\n",
    "import matplotlib.pyplot as plt\n",
    "import seaborn as sns\n",
    "from sklearn.metrics import accuracy_score\n",
    "from sklearn.svm import SVC\n",
    "from sklearn.tree import DecisionTreeClassifier\n",
    "from sklearn import tree\n",
    "import warnings\n",
    "warnings.filterwarnings('ignore')"
   ]
  },
  {
   "cell_type": "markdown",
   "id": "0ff4de6e",
   "metadata": {},
   "source": [
    "The code begins by importing necessary libraries for data analysis and machine learning. It includes pandas for data manipulation, numpy for numerical operations, matplotlib for plotting, seaborn for data visualization, and various classes and functions from scikit-learn for machine learning tasks."
   ]
  },
  {
   "cell_type": "markdown",
   "id": "fac1fad9",
   "metadata": {},
   "source": [
    "#### DATA COLLECTION"
   ]
  },
  {
   "cell_type": "code",
   "execution_count": 2,
   "id": "06a34ece",
   "metadata": {},
   "outputs": [
    {
     "data": {
      "text/html": [
       "<div>\n",
       "<style scoped>\n",
       "    .dataframe tbody tr th:only-of-type {\n",
       "        vertical-align: middle;\n",
       "    }\n",
       "\n",
       "    .dataframe tbody tr th {\n",
       "        vertical-align: top;\n",
       "    }\n",
       "\n",
       "    .dataframe thead th {\n",
       "        text-align: right;\n",
       "    }\n",
       "</style>\n",
       "<table border=\"1\" class=\"dataframe\">\n",
       "  <thead>\n",
       "    <tr style=\"text-align: right;\">\n",
       "      <th></th>\n",
       "      <th>pH</th>\n",
       "      <th>Temprature</th>\n",
       "      <th>Taste</th>\n",
       "      <th>Odor</th>\n",
       "      <th>Fat</th>\n",
       "      <th>Turbidity</th>\n",
       "      <th>Colour</th>\n",
       "      <th>Grade</th>\n",
       "    </tr>\n",
       "  </thead>\n",
       "  <tbody>\n",
       "    <tr>\n",
       "      <th>0</th>\n",
       "      <td>6.6</td>\n",
       "      <td>35</td>\n",
       "      <td>1</td>\n",
       "      <td>0</td>\n",
       "      <td>1</td>\n",
       "      <td>0</td>\n",
       "      <td>254</td>\n",
       "      <td>high</td>\n",
       "    </tr>\n",
       "    <tr>\n",
       "      <th>1</th>\n",
       "      <td>6.6</td>\n",
       "      <td>36</td>\n",
       "      <td>0</td>\n",
       "      <td>1</td>\n",
       "      <td>0</td>\n",
       "      <td>1</td>\n",
       "      <td>253</td>\n",
       "      <td>high</td>\n",
       "    </tr>\n",
       "    <tr>\n",
       "      <th>2</th>\n",
       "      <td>8.5</td>\n",
       "      <td>70</td>\n",
       "      <td>1</td>\n",
       "      <td>1</td>\n",
       "      <td>1</td>\n",
       "      <td>1</td>\n",
       "      <td>246</td>\n",
       "      <td>low</td>\n",
       "    </tr>\n",
       "    <tr>\n",
       "      <th>3</th>\n",
       "      <td>9.5</td>\n",
       "      <td>34</td>\n",
       "      <td>1</td>\n",
       "      <td>1</td>\n",
       "      <td>0</td>\n",
       "      <td>1</td>\n",
       "      <td>255</td>\n",
       "      <td>low</td>\n",
       "    </tr>\n",
       "    <tr>\n",
       "      <th>4</th>\n",
       "      <td>6.6</td>\n",
       "      <td>37</td>\n",
       "      <td>0</td>\n",
       "      <td>0</td>\n",
       "      <td>0</td>\n",
       "      <td>0</td>\n",
       "      <td>255</td>\n",
       "      <td>medium</td>\n",
       "    </tr>\n",
       "    <tr>\n",
       "      <th>...</th>\n",
       "      <td>...</td>\n",
       "      <td>...</td>\n",
       "      <td>...</td>\n",
       "      <td>...</td>\n",
       "      <td>...</td>\n",
       "      <td>...</td>\n",
       "      <td>...</td>\n",
       "      <td>...</td>\n",
       "    </tr>\n",
       "    <tr>\n",
       "      <th>1054</th>\n",
       "      <td>6.7</td>\n",
       "      <td>45</td>\n",
       "      <td>1</td>\n",
       "      <td>1</td>\n",
       "      <td>0</td>\n",
       "      <td>0</td>\n",
       "      <td>247</td>\n",
       "      <td>medium</td>\n",
       "    </tr>\n",
       "    <tr>\n",
       "      <th>1055</th>\n",
       "      <td>6.7</td>\n",
       "      <td>38</td>\n",
       "      <td>1</td>\n",
       "      <td>0</td>\n",
       "      <td>1</td>\n",
       "      <td>0</td>\n",
       "      <td>255</td>\n",
       "      <td>high</td>\n",
       "    </tr>\n",
       "    <tr>\n",
       "      <th>1056</th>\n",
       "      <td>3.0</td>\n",
       "      <td>40</td>\n",
       "      <td>1</td>\n",
       "      <td>1</td>\n",
       "      <td>1</td>\n",
       "      <td>1</td>\n",
       "      <td>255</td>\n",
       "      <td>low</td>\n",
       "    </tr>\n",
       "    <tr>\n",
       "      <th>1057</th>\n",
       "      <td>6.8</td>\n",
       "      <td>43</td>\n",
       "      <td>1</td>\n",
       "      <td>0</td>\n",
       "      <td>1</td>\n",
       "      <td>0</td>\n",
       "      <td>250</td>\n",
       "      <td>high</td>\n",
       "    </tr>\n",
       "    <tr>\n",
       "      <th>1058</th>\n",
       "      <td>8.6</td>\n",
       "      <td>55</td>\n",
       "      <td>0</td>\n",
       "      <td>1</td>\n",
       "      <td>1</td>\n",
       "      <td>1</td>\n",
       "      <td>255</td>\n",
       "      <td>low</td>\n",
       "    </tr>\n",
       "  </tbody>\n",
       "</table>\n",
       "<p>1059 rows × 8 columns</p>\n",
       "</div>"
      ],
      "text/plain": [
       "       pH  Temprature  Taste  Odor  Fat   Turbidity  Colour   Grade\n",
       "0     6.6          35      1     0     1          0     254    high\n",
       "1     6.6          36      0     1     0          1     253    high\n",
       "2     8.5          70      1     1     1          1     246     low\n",
       "3     9.5          34      1     1     0          1     255     low\n",
       "4     6.6          37      0     0     0          0     255  medium\n",
       "...   ...         ...    ...   ...   ...        ...     ...     ...\n",
       "1054  6.7          45      1     1     0          0     247  medium\n",
       "1055  6.7          38      1     0     1          0     255    high\n",
       "1056  3.0          40      1     1     1          1     255     low\n",
       "1057  6.8          43      1     0     1          0     250    high\n",
       "1058  8.6          55      0     1     1          1     255     low\n",
       "\n",
       "[1059 rows x 8 columns]"
      ]
     },
     "execution_count": 2,
     "metadata": {},
     "output_type": "execute_result"
    }
   ],
   "source": [
    "df = pd.read_csv(\"milknew.csv\")\n",
    "df"
   ]
  },
  {
   "cell_type": "markdown",
   "id": "ef627cba",
   "metadata": {},
   "source": [
    "### Understanding Given Data \n",
    "This dataset consists of 7 independent variables ie pH, Temperature, Taste, Odor, Fat, Turbidity, and Color.\n",
    "1) pH - The 'pH' column contains 1059 non-null float values. It represents the acidity or alkalinity of the milk samples\n",
    "2) Temprature - The 'Temperature' column contains 1059 non-null integer values. It represents the temperature at which the milk samples were taken\n",
    "3) Taste - The 'Taste' column contains 1059 non-null integer values.It appears to be a binary categorical feature, where 1 likely indicates a positive taste, and 0 indicates a negative taste for the milk samples.\n",
    "4) Odor - The 'Odor' column contains 1059 non-null integer values. Similar to 'Taste', it appears to be a binary categorical feature, where 1 likely indicates the presence of odor, and 0 indicates no odor in the milk samples.\n",
    "5) Fat - The 'Fat' column contains 1059 non-null integer values. It is a binary categorical feature, where 1 likely represents high fat content, and 0 represents low fat content in the milk samples.\n",
    "6) Turbidity - The 'Turbidity' column contains 1059 non-null integer values. It appears to be a binary categorical feature, where 1 likely indicates high turbidity (cloudiness or opacity), and 0 indicates low turbidity in the milk samples.\n",
    "7) Colour - The 'Colour' column contains 1059 non-null integer values. It represents the color intensity of the milk samples, and since it is numerical, it is expected to be a continuous feature.\n",
    "8) Grade - The 'Grade' column contains 1059 non-null object (string) values. It is the target variable representing the grade or quality of the milk samples.\n",
    "There are no null values in Dataset\n",
    "\n",
    "\n",
    "Generally, the Grade or Quality of the milk depends on these parameters. These parameters play a vital role in the predictive analysis of the milk."
   ]
  },
  {
   "cell_type": "markdown",
   "id": "f791faf6",
   "metadata": {},
   "source": [
    "#### ANALYZING THE DATA"
   ]
  },
  {
   "cell_type": "code",
   "execution_count": 3,
   "id": "612b62b3",
   "metadata": {},
   "outputs": [
    {
     "name": "stdout",
     "output_type": "stream",
     "text": [
      "<class 'pandas.core.frame.DataFrame'>\n",
      "RangeIndex: 1059 entries, 0 to 1058\n",
      "Data columns (total 8 columns):\n",
      " #   Column      Non-Null Count  Dtype  \n",
      "---  ------      --------------  -----  \n",
      " 0   pH          1059 non-null   float64\n",
      " 1   Temprature  1059 non-null   int64  \n",
      " 2   Taste       1059 non-null   int64  \n",
      " 3   Odor        1059 non-null   int64  \n",
      " 4   Fat         1059 non-null   int64  \n",
      " 5   Turbidity   1059 non-null   int64  \n",
      " 6   Colour      1059 non-null   int64  \n",
      " 7   Grade       1059 non-null   object \n",
      "dtypes: float64(1), int64(6), object(1)\n",
      "memory usage: 66.3+ KB\n"
     ]
    }
   ],
   "source": [
    "df.info() "
   ]
  },
  {
   "cell_type": "code",
   "execution_count": 4,
   "id": "2178dbac",
   "metadata": {},
   "outputs": [
    {
     "data": {
      "text/html": [
       "<div>\n",
       "<style scoped>\n",
       "    .dataframe tbody tr th:only-of-type {\n",
       "        vertical-align: middle;\n",
       "    }\n",
       "\n",
       "    .dataframe tbody tr th {\n",
       "        vertical-align: top;\n",
       "    }\n",
       "\n",
       "    .dataframe thead th {\n",
       "        text-align: right;\n",
       "    }\n",
       "</style>\n",
       "<table border=\"1\" class=\"dataframe\">\n",
       "  <thead>\n",
       "    <tr style=\"text-align: right;\">\n",
       "      <th></th>\n",
       "      <th>pH</th>\n",
       "      <th>Temprature</th>\n",
       "      <th>Taste</th>\n",
       "      <th>Odor</th>\n",
       "      <th>Fat</th>\n",
       "      <th>Turbidity</th>\n",
       "      <th>Colour</th>\n",
       "    </tr>\n",
       "  </thead>\n",
       "  <tbody>\n",
       "    <tr>\n",
       "      <th>count</th>\n",
       "      <td>1059.000000</td>\n",
       "      <td>1059.000000</td>\n",
       "      <td>1059.000000</td>\n",
       "      <td>1059.000000</td>\n",
       "      <td>1059.000000</td>\n",
       "      <td>1059.000000</td>\n",
       "      <td>1059.000000</td>\n",
       "    </tr>\n",
       "    <tr>\n",
       "      <th>mean</th>\n",
       "      <td>6.630123</td>\n",
       "      <td>44.226629</td>\n",
       "      <td>0.546742</td>\n",
       "      <td>0.432483</td>\n",
       "      <td>0.671388</td>\n",
       "      <td>0.491029</td>\n",
       "      <td>251.840415</td>\n",
       "    </tr>\n",
       "    <tr>\n",
       "      <th>std</th>\n",
       "      <td>1.399679</td>\n",
       "      <td>10.098364</td>\n",
       "      <td>0.498046</td>\n",
       "      <td>0.495655</td>\n",
       "      <td>0.469930</td>\n",
       "      <td>0.500156</td>\n",
       "      <td>4.307424</td>\n",
       "    </tr>\n",
       "    <tr>\n",
       "      <th>min</th>\n",
       "      <td>3.000000</td>\n",
       "      <td>34.000000</td>\n",
       "      <td>0.000000</td>\n",
       "      <td>0.000000</td>\n",
       "      <td>0.000000</td>\n",
       "      <td>0.000000</td>\n",
       "      <td>240.000000</td>\n",
       "    </tr>\n",
       "    <tr>\n",
       "      <th>25%</th>\n",
       "      <td>6.500000</td>\n",
       "      <td>38.000000</td>\n",
       "      <td>0.000000</td>\n",
       "      <td>0.000000</td>\n",
       "      <td>0.000000</td>\n",
       "      <td>0.000000</td>\n",
       "      <td>250.000000</td>\n",
       "    </tr>\n",
       "    <tr>\n",
       "      <th>50%</th>\n",
       "      <td>6.700000</td>\n",
       "      <td>41.000000</td>\n",
       "      <td>1.000000</td>\n",
       "      <td>0.000000</td>\n",
       "      <td>1.000000</td>\n",
       "      <td>0.000000</td>\n",
       "      <td>255.000000</td>\n",
       "    </tr>\n",
       "    <tr>\n",
       "      <th>75%</th>\n",
       "      <td>6.800000</td>\n",
       "      <td>45.000000</td>\n",
       "      <td>1.000000</td>\n",
       "      <td>1.000000</td>\n",
       "      <td>1.000000</td>\n",
       "      <td>1.000000</td>\n",
       "      <td>255.000000</td>\n",
       "    </tr>\n",
       "    <tr>\n",
       "      <th>max</th>\n",
       "      <td>9.500000</td>\n",
       "      <td>90.000000</td>\n",
       "      <td>1.000000</td>\n",
       "      <td>1.000000</td>\n",
       "      <td>1.000000</td>\n",
       "      <td>1.000000</td>\n",
       "      <td>255.000000</td>\n",
       "    </tr>\n",
       "  </tbody>\n",
       "</table>\n",
       "</div>"
      ],
      "text/plain": [
       "                pH   Temprature        Taste         Odor         Fat   \\\n",
       "count  1059.000000  1059.000000  1059.000000  1059.000000  1059.000000   \n",
       "mean      6.630123    44.226629     0.546742     0.432483     0.671388   \n",
       "std       1.399679    10.098364     0.498046     0.495655     0.469930   \n",
       "min       3.000000    34.000000     0.000000     0.000000     0.000000   \n",
       "25%       6.500000    38.000000     0.000000     0.000000     0.000000   \n",
       "50%       6.700000    41.000000     1.000000     0.000000     1.000000   \n",
       "75%       6.800000    45.000000     1.000000     1.000000     1.000000   \n",
       "max       9.500000    90.000000     1.000000     1.000000     1.000000   \n",
       "\n",
       "         Turbidity       Colour  \n",
       "count  1059.000000  1059.000000  \n",
       "mean      0.491029   251.840415  \n",
       "std       0.500156     4.307424  \n",
       "min       0.000000   240.000000  \n",
       "25%       0.000000   250.000000  \n",
       "50%       0.000000   255.000000  \n",
       "75%       1.000000   255.000000  \n",
       "max       1.000000   255.000000  "
      ]
     },
     "execution_count": 4,
     "metadata": {},
     "output_type": "execute_result"
    }
   ],
   "source": [
    "df.describe()  "
   ]
  },
  {
   "cell_type": "markdown",
   "id": "de45e4df",
   "metadata": {},
   "source": [
    "From above table we get 5 number summary of dataset i.e. we get minimum, mean,median,standard deviation and maximum"
   ]
  },
  {
   "cell_type": "markdown",
   "id": "a8fae787",
   "metadata": {},
   "source": [
    "### DATA CLEANING"
   ]
  },
  {
   "cell_type": "markdown",
   "id": "49ddf97a",
   "metadata": {},
   "source": [
    "#### Analyzing the target Column"
   ]
  },
  {
   "cell_type": "code",
   "execution_count": 5,
   "id": "161e3178",
   "metadata": {},
   "outputs": [
    {
     "data": {
      "text/plain": [
       "low       429\n",
       "medium    374\n",
       "high      256\n",
       "Name: Grade, dtype: int64"
      ]
     },
     "execution_count": 5,
     "metadata": {},
     "output_type": "execute_result"
    }
   ],
   "source": [
    "df['Grade'].value_counts()"
   ]
  },
  {
   "cell_type": "markdown",
   "id": "80b2cede",
   "metadata": {},
   "source": [
    "Here, we can see data in target column is balanced"
   ]
  },
  {
   "cell_type": "markdown",
   "id": "2b91efa9",
   "metadata": {},
   "source": [
    "#### Checking for missing values."
   ]
  },
  {
   "cell_type": "code",
   "execution_count": 6,
   "id": "8e1f63f8",
   "metadata": {},
   "outputs": [
    {
     "data": {
      "text/plain": [
       "pH            0\n",
       "Temprature    0\n",
       "Taste         0\n",
       "Odor          0\n",
       "Fat           0\n",
       "Turbidity     0\n",
       "Colour        0\n",
       "Grade         0\n",
       "dtype: int64"
      ]
     },
     "execution_count": 6,
     "metadata": {},
     "output_type": "execute_result"
    }
   ],
   "source": [
    "df.isnull().sum()"
   ]
  },
  {
   "cell_type": "markdown",
   "id": "37921f24",
   "metadata": {},
   "source": [
    "There are no missing values in any of the columns of the dataset. "
   ]
  },
  {
   "cell_type": "markdown",
   "id": "4320d8c4",
   "metadata": {},
   "source": [
    "### Visualization"
   ]
  },
  {
   "cell_type": "markdown",
   "id": "90c4aa89",
   "metadata": {},
   "source": [
    "#### 1) Pie Chart"
   ]
  },
  {
   "cell_type": "code",
   "execution_count": 7,
   "id": "528ba624",
   "metadata": {},
   "outputs": [
    {
     "data": {
      "text/plain": [
       "<function matplotlib.pyplot.show(close=None, block=None)>"
      ]
     },
     "execution_count": 7,
     "metadata": {},
     "output_type": "execute_result"
    },
    {
     "data": {
      "image/png": "[encoded data removed]",
      "text/plain": [
       "<Figure size 400x400 with 1 Axes>"
      ]
     },
     "metadata": {},
     "output_type": "display_data"
    }
   ],
   "source": [
    "plt.figure(figsize=(4,4))\n",
    "df['Grade'].value_counts().plot.pie(autopct=\"%1.2f%%\")\n",
    "plt.show"
   ]
  },
  {
   "cell_type": "markdown",
   "id": "302d5ab6",
   "metadata": {},
   "source": [
    " Here we have plotted pie chart where we have shown percentage of Grade of Milk Quality, here low quality grade is maximum and high quality is minimum"
   ]
  },
  {
   "cell_type": "markdown",
   "id": "eff4e31e",
   "metadata": {},
   "source": [
    "#### 2) Heatmap"
   ]
  },
  {
   "cell_type": "code",
   "execution_count": 8,
   "id": "af7b9563",
   "metadata": {},
   "outputs": [],
   "source": [
    "corr = df.corr()"
   ]
  },
  {
   "cell_type": "code",
   "execution_count": 9,
   "id": "44af4c69",
   "metadata": {},
   "outputs": [
    {
     "data": {
      "image/png": "[encoded data removed]",
      "text/plain": [
       "<Figure size 700x700 with 2 Axes>"
      ]
     },
     "metadata": {},
     "output_type": "display_data"
    }
   ],
   "source": [
    "plt.figure(figsize=(7,7))\n",
    "sns.heatmap(corr,annot=True,cmap='rocket',linecolor='black',linewidths=0.2)\n",
    "plt.show()"
   ]
  },
  {
   "cell_type": "markdown",
   "id": "80645ad6",
   "metadata": {},
   "source": [
    " here we have found the relation between various features using Heatmap"
   ]
  },
  {
   "cell_type": "markdown",
   "id": "27255ba0",
   "metadata": {},
   "source": [
    "#### 3) Histplot"
   ]
  },
  {
   "cell_type": "code",
   "execution_count": 43,
   "id": "d507d1a6",
   "metadata": {
    "scrolled": true
   },
   "outputs": [
    {
     "data": {
      "image/png": "[encoded data removed]",
      "text/plain": [
       "<Figure size 300x300 with 1 Axes>"
      ]
     },
     "metadata": {},
     "output_type": "display_data"
    }
   ],
   "source": [
    "# histplot (categorical) \n",
    "plt.figure(figsize=(3,3))\n",
    "sns.histplot(data=df, x='Grade',color='lightgreen')\n",
    "plt.grid()\n",
    "plt.show()"
   ]
  },
  {
   "cell_type": "markdown",
   "id": "e3e7ef38",
   "metadata": {},
   "source": [
    " Here we have plotted Histplot where we have shown percentage of Grade of Milk Quality, here low quality grade is maximum and high quality is minimum"
   ]
  },
  {
   "cell_type": "markdown",
   "id": "b78d53ec",
   "metadata": {},
   "source": [
    "## Encoding"
   ]
  },
  {
   "cell_type": "code",
   "execution_count": 11,
   "id": "3bd48898",
   "metadata": {},
   "outputs": [
    {
     "data": {
      "text/plain": [
       "0       0\n",
       "1       0\n",
       "2       1\n",
       "3       1\n",
       "4       2\n",
       "       ..\n",
       "1054    2\n",
       "1055    0\n",
       "1056    1\n",
       "1057    0\n",
       "1058    1\n",
       "Name: Grade, Length: 1059, dtype: int32"
      ]
     },
     "execution_count": 11,
     "metadata": {},
     "output_type": "execute_result"
    }
   ],
   "source": [
    "from sklearn import preprocessing\n",
    "le = preprocessing.LabelEncoder()\n",
    "df['Grade']= le.fit_transform(df['Grade'])\n",
    "df['Grade']"
   ]
  },
  {
   "cell_type": "markdown",
   "id": "5431a16c",
   "metadata": {},
   "source": [
    " By applying Label Encoding to the 'Grade' column, the categorical labels 'high', 'medium', and 'low' have been replaced with numerical representations. "
   ]
  },
  {
   "cell_type": "markdown",
   "id": "ca673d4a",
   "metadata": {},
   "source": [
    "### Splitting Features and Target"
   ]
  },
  {
   "cell_type": "code",
   "execution_count": 12,
   "id": "531564da",
   "metadata": {},
   "outputs": [],
   "source": [
    "x = df.iloc[:,:-1]\n",
    "y = df[\"Grade\"]"
   ]
  },
  {
   "cell_type": "markdown",
   "id": "f90449ae",
   "metadata": {},
   "source": [
    " splitting the DataFrame into two parts - features (x) and the target (y)."
   ]
  },
  {
   "cell_type": "markdown",
   "id": "714709bc",
   "metadata": {},
   "source": [
    "### Scaling"
   ]
  },
  {
   "cell_type": "code",
   "execution_count": 13,
   "id": "391e7523",
   "metadata": {},
   "outputs": [],
   "source": [
    "from sklearn.preprocessing import StandardScaler\n",
    "ss=StandardScaler()\n",
    "x.iloc[:,:]=ss.fit_transform(x.iloc[:,:])"
   ]
  },
  {
   "cell_type": "markdown",
   "id": "5b133ed9",
   "metadata": {},
   "source": [
    "Using the StandardScaler from scikit-learn to standardize the numerical features in the DataFrame x. "
   ]
  },
  {
   "cell_type": "markdown",
   "id": "a5cdf674",
   "metadata": {},
   "source": [
    "### Split data into train and test"
   ]
  },
  {
   "cell_type": "code",
   "execution_count": 14,
   "id": "48fd506d",
   "metadata": {},
   "outputs": [],
   "source": [
    "from sklearn.model_selection import train_test_split\n",
    "xtrain,xtest,ytrain,ytest=train_test_split(x,y,test_size=0.30,random_state=1)"
   ]
  },
  {
   "cell_type": "markdown",
   "id": "ab7b4095",
   "metadata": {},
   "source": [
    "Splitting the dataset into separate training and testing sets to evaluate the performance of the trained model."
   ]
  },
  {
   "cell_type": "markdown",
   "id": "2b8b7dd0",
   "metadata": {},
   "source": [
    "### Model Building"
   ]
  },
  {
   "cell_type": "code",
   "execution_count": 15,
   "id": "5a435132",
   "metadata": {},
   "outputs": [],
   "source": [
    "from sklearn.linear_model import LogisticRegression\n",
    "lr = LogisticRegression()\n",
    "lr.fit(xtrain,ytrain)\n",
    "ypred = lr.predict(xtest)"
   ]
  },
  {
   "cell_type": "markdown",
   "id": "be433c0a",
   "metadata": {},
   "source": [
    " Logistic regression model is trained on the training data and the model makes predictions on the test data to obtain the predicted target values."
   ]
  },
  {
   "cell_type": "markdown",
   "id": "46f22b56",
   "metadata": {},
   "source": [
    "### Evaluate Model"
   ]
  },
  {
   "cell_type": "code",
   "execution_count": 16,
   "id": "b6095141",
   "metadata": {},
   "outputs": [
    {
     "name": "stdout",
     "output_type": "stream",
     "text": [
      "              precision    recall  f1-score   support\n",
      "\n",
      "           0       0.74      0.82      0.78        71\n",
      "           1       0.89      0.90      0.90       142\n",
      "           2       0.93      0.85      0.89       105\n",
      "\n",
      "    accuracy                           0.86       318\n",
      "   macro avg       0.85      0.86      0.85       318\n",
      "weighted avg       0.87      0.86      0.87       318\n",
      "\n"
     ]
    }
   ],
   "source": [
    "from sklearn.metrics import classification_report\n",
    "print(classification_report(ytest,ypred))"
   ]
  },
  {
   "cell_type": "markdown",
   "id": "3a149c84",
   "metadata": {},
   "source": [
    "Printing the classification report, which provides a detailed evaluation of the model's performance on the test data, including precision, recall, F1-score, and support for each class in the target variable.\n",
    "\n",
    "I am getting accuracy of 86% from LogisticRegression."
   ]
  },
  {
   "cell_type": "markdown",
   "id": "9426945b",
   "metadata": {},
   "source": [
    "### Hypertuning using solver parameter"
   ]
  },
  {
   "cell_type": "code",
   "execution_count": 17,
   "id": "1868bd03",
   "metadata": {},
   "outputs": [
    {
     "name": "stdout",
     "output_type": "stream",
     "text": [
      "              precision    recall  f1-score   support\n",
      "\n",
      "           0       0.70      0.82      0.75        71\n",
      "           1       0.89      0.88      0.88       142\n",
      "           2       0.95      0.85      0.89       105\n",
      "\n",
      "    accuracy                           0.86       318\n",
      "   macro avg       0.84      0.85      0.84       318\n",
      "weighted avg       0.86      0.86      0.86       318\n",
      "\n"
     ]
    }
   ],
   "source": [
    "lr1 = LogisticRegression(solver='liblinear')\n",
    "lr1.fit(xtrain,ytrain)\n",
    "ypred = lr1.predict(xtest)\n",
    "print(classification_report(ytest,ypred))"
   ]
  },
  {
   "cell_type": "markdown",
   "id": "7c76848e",
   "metadata": {},
   "source": [
    " Rebuilding model with the 'liblinear' solver and the classification report is printed.\n",
    " \n",
    " I am getting accuracy of 86% by using \"liblinear\" solver in LogisticRegression."
   ]
  },
  {
   "cell_type": "code",
   "execution_count": 18,
   "id": "269ab13b",
   "metadata": {},
   "outputs": [
    {
     "name": "stdout",
     "output_type": "stream",
     "text": [
      "              precision    recall  f1-score   support\n",
      "\n",
      "           0       0.74      0.82      0.78        71\n",
      "           1       0.89      0.90      0.90       142\n",
      "           2       0.93      0.85      0.89       105\n",
      "\n",
      "    accuracy                           0.86       318\n",
      "   macro avg       0.85      0.86      0.85       318\n",
      "weighted avg       0.87      0.86      0.87       318\n",
      "\n"
     ]
    }
   ],
   "source": [
    "lr2 = LogisticRegression(solver='saga')\n",
    "lr2.fit(xtrain,ytrain)\n",
    "ypred = lr2.predict(xtest)\n",
    "print(classification_report(ytest,ypred))"
   ]
  },
  {
   "cell_type": "markdown",
   "id": "7a7110d3",
   "metadata": {},
   "source": [
    " Rebuilding model with the 'saga' solver and the classification report is printed.\n",
    " \n",
    "  I am getting accuracy of 86% by using \"saga\" solver in LogisticRegression."
   ]
  },
  {
   "cell_type": "code",
   "execution_count": 19,
   "id": "7380fb4f",
   "metadata": {},
   "outputs": [],
   "source": [
    "lr = LogisticRegression(solver='sag')\n",
    "lr.fit(xtrain,ytrain)\n",
    "ypred = lr.predict(xtest)"
   ]
  },
  {
   "cell_type": "code",
   "execution_count": 20,
   "id": "4b8065a0",
   "metadata": {},
   "outputs": [
    {
     "name": "stdout",
     "output_type": "stream",
     "text": [
      "              precision    recall  f1-score   support\n",
      "\n",
      "           0       0.74      0.82      0.78        71\n",
      "           1       0.89      0.90      0.90       142\n",
      "           2       0.93      0.85      0.89       105\n",
      "\n",
      "    accuracy                           0.86       318\n",
      "   macro avg       0.85      0.86      0.85       318\n",
      "weighted avg       0.87      0.86      0.87       318\n",
      "\n"
     ]
    }
   ],
   "source": [
    "print(classification_report(ytest,ypred))"
   ]
  },
  {
   "cell_type": "markdown",
   "id": "7afd2db9",
   "metadata": {},
   "source": [
    " Rebuilding model with the 'sag' solver and the classification report is printed.\n",
    " \n",
    "  I am getting accuracy of 86% by using \"sag\" solver in LogisticRegression."
   ]
  },
  {
   "cell_type": "code",
   "execution_count": 21,
   "id": "032c35b3",
   "metadata": {},
   "outputs": [],
   "source": [
    "def mm(model):\n",
    "    model.fit(xtrain,ytrain)\n",
    "    ypred = model.predict(xtest)\n",
    "    \n",
    "    ac = accuracy_score(ytest,ypred)\n",
    "    cr = classification_report(ytest,ypred)\n",
    "    \n",
    "    print(f\"Accuracy_Score {ac} \")\n",
    "    print(f\"Classification_Report {cr} \")"
   ]
  },
  {
   "cell_type": "markdown",
   "id": "d11489d0",
   "metadata": {},
   "source": [
    " Creating a function called mm(model) that takes a machine learning model as input, fits the model on the training data, makes predictions on the test data, and then prints the accuracy score and classification report to evaluate the model's performance on the test data."
   ]
  },
  {
   "cell_type": "code",
   "execution_count": 22,
   "id": "3d3ce4e3",
   "metadata": {},
   "outputs": [],
   "source": [
    "svm = SVC()\n",
    "dt = DecisionTreeClassifier()"
   ]
  },
  {
   "cell_type": "markdown",
   "id": "ff3e34bf",
   "metadata": {},
   "source": [
    " In this step, two classifier models, Support Vector Machine (SVM) and Decision Tree, are instantiated."
   ]
  },
  {
   "cell_type": "markdown",
   "id": "ebed1be1",
   "metadata": {},
   "source": [
    "## Support Vector Machine (SVM) "
   ]
  },
  {
   "cell_type": "code",
   "execution_count": 23,
   "id": "dac4ef10",
   "metadata": {},
   "outputs": [
    {
     "name": "stdout",
     "output_type": "stream",
     "text": [
      "Accuracy_Score 0.9465408805031447 \n",
      "Classification_Report               precision    recall  f1-score   support\n",
      "\n",
      "           0       0.88      0.96      0.92        71\n",
      "           1       1.00      0.96      0.98       142\n",
      "           2       0.92      0.91      0.92       105\n",
      "\n",
      "    accuracy                           0.95       318\n",
      "   macro avg       0.94      0.95      0.94       318\n",
      "weighted avg       0.95      0.95      0.95       318\n",
      " \n"
     ]
    }
   ],
   "source": [
    "mm(svm)"
   ]
  },
  {
   "cell_type": "markdown",
   "id": "7aa91b6c",
   "metadata": {},
   "source": [
    "mm function is called with the Support Vector Machine (SVM) model as an argument, which fits the SVM model on the training data, makes predictions on the test data, and prints the accuracy score and classification report.\n",
    "\n",
    "I am getting accuracy of 95% from Support Vector Machine.\n"
   ]
  },
  {
   "cell_type": "markdown",
   "id": "18a14240",
   "metadata": {},
   "source": [
    "## HPT SVM"
   ]
  },
  {
   "cell_type": "code",
   "execution_count": 24,
   "id": "24ab670d",
   "metadata": {},
   "outputs": [
    {
     "name": "stdout",
     "output_type": "stream",
     "text": [
      "Accuracy_Score 0.8490566037735849 \n",
      "Classification_Report               precision    recall  f1-score   support\n",
      "\n",
      "           0       0.67      0.93      0.78        71\n",
      "           1       0.93      0.81      0.87       142\n",
      "           2       0.93      0.85      0.89       105\n",
      "\n",
      "    accuracy                           0.85       318\n",
      "   macro avg       0.84      0.86      0.84       318\n",
      "weighted avg       0.87      0.85      0.85       318\n",
      " \n"
     ]
    }
   ],
   "source": [
    "svm1 = SVC(kernel = \"linear\")\n",
    "mm(svm1)"
   ]
  },
  {
   "cell_type": "markdown",
   "id": "d5c28242",
   "metadata": {},
   "source": [
    "Rebuilding model with the 'linear' kernel and the classification report is printed.\n",
    "\n",
    "I am getting accuracy of 85% by using \"linear\" kernel in Support Vector Machine."
   ]
  },
  {
   "cell_type": "code",
   "execution_count": 25,
   "id": "8355d6e7",
   "metadata": {},
   "outputs": [
    {
     "name": "stdout",
     "output_type": "stream",
     "text": [
      "Accuracy_Score 0.9150943396226415 \n",
      "Classification_Report               precision    recall  f1-score   support\n",
      "\n",
      "           0       0.80      0.94      0.86        71\n",
      "           1       0.97      0.92      0.95       142\n",
      "           2       0.94      0.89      0.91       105\n",
      "\n",
      "    accuracy                           0.92       318\n",
      "   macro avg       0.90      0.92      0.91       318\n",
      "weighted avg       0.92      0.92      0.92       318\n",
      " \n"
     ]
    }
   ],
   "source": [
    "svm2 = SVC(kernel = \"poly\")\n",
    "mm(svm2)"
   ]
  },
  {
   "cell_type": "markdown",
   "id": "972036c2",
   "metadata": {},
   "source": [
    " Rebuilding model with the 'poly' kernel and the classification report is printed.\n",
    " \n",
    " I am getting accuracy of 92% by using \"poly\" kernel in Support Vector Machine."
   ]
  },
  {
   "cell_type": "code",
   "execution_count": 26,
   "id": "c1a04c15",
   "metadata": {},
   "outputs": [
    {
     "name": "stdout",
     "output_type": "stream",
     "text": [
      "Accuracy_Score 0.9465408805031447 \n",
      "Classification_Report               precision    recall  f1-score   support\n",
      "\n",
      "           0       0.88      0.96      0.92        71\n",
      "           1       1.00      0.96      0.98       142\n",
      "           2       0.92      0.91      0.92       105\n",
      "\n",
      "    accuracy                           0.95       318\n",
      "   macro avg       0.94      0.95      0.94       318\n",
      "weighted avg       0.95      0.95      0.95       318\n",
      " \n"
     ]
    }
   ],
   "source": [
    "svm4 = SVC(kernel = \"rbf\")\n",
    "mm(svm4)"
   ]
  },
  {
   "cell_type": "markdown",
   "id": "6d56a9b7",
   "metadata": {},
   "source": [
    " Rebuilding model with the 'rbf' kernel and the classification report is printed.\n",
    " \n",
    " I am getting accuracy of 95% by using \"rbf\" kernel in Support Vector Machine."
   ]
  },
  {
   "cell_type": "markdown",
   "id": "927ff5d8",
   "metadata": {},
   "source": [
    "#### In Support Vector Machine \"rbf\" Kernel is giving us the best Accuracy"
   ]
  },
  {
   "cell_type": "markdown",
   "id": "9231886f",
   "metadata": {},
   "source": [
    "### Decision Tree"
   ]
  },
  {
   "cell_type": "code",
   "execution_count": 27,
   "id": "0e7d44cd",
   "metadata": {},
   "outputs": [
    {
     "name": "stdout",
     "output_type": "stream",
     "text": [
      "Accuracy_Score 1.0 \n",
      "Classification_Report               precision    recall  f1-score   support\n",
      "\n",
      "           0       1.00      1.00      1.00        71\n",
      "           1       1.00      1.00      1.00       142\n",
      "           2       1.00      1.00      1.00       105\n",
      "\n",
      "    accuracy                           1.00       318\n",
      "   macro avg       1.00      1.00      1.00       318\n",
      "weighted avg       1.00      1.00      1.00       318\n",
      " \n"
     ]
    }
   ],
   "source": [
    "mm(dt)"
   ]
  },
  {
   "cell_type": "markdown",
   "id": "17f4c10e",
   "metadata": {},
   "source": [
    " mm function is called with the Decision Tree model as an argument, which fits the SVM model on the training data, makes predictions on the test data, and prints the accuracy score and classification report."
   ]
  },
  {
   "cell_type": "code",
   "execution_count": 28,
   "id": "f077f42c",
   "metadata": {},
   "outputs": [
    {
     "data": {
      "image/png": "[encoded data removed]",
      "text/plain": [
       "<Figure size 2500x1000 with 1 Axes>"
      ]
     },
     "metadata": {},
     "output_type": "display_data"
    }
   ],
   "source": [
    "fig,ax=plt.subplots(figsize=(25,10))\n",
    "chart=tree.plot_tree(dt,max_depth=5,feature_names=x.columns,filled=True,fontsize=12)\n",
    "plt.savefig('Dt figure.pdf')   #### we can also save as 'Dt figure.jpg'"
   ]
  },
  {
   "cell_type": "code",
   "execution_count": 29,
   "id": "1ccdb5b4",
   "metadata": {},
   "outputs": [
    {
     "data": {
      "text/plain": [
       "1.0"
      ]
     },
     "execution_count": 29,
     "metadata": {},
     "output_type": "execute_result"
    }
   ],
   "source": [
    "dt.score(xtrain,ytrain)"
   ]
  },
  {
   "cell_type": "code",
   "execution_count": 30,
   "id": "7a8e258d",
   "metadata": {},
   "outputs": [
    {
     "data": {
      "text/plain": [
       "1.0"
      ]
     },
     "execution_count": 30,
     "metadata": {},
     "output_type": "execute_result"
    }
   ],
   "source": [
    "dt.score(xtest,ytest)"
   ]
  },
  {
   "cell_type": "markdown",
   "id": "57167cfe",
   "metadata": {},
   "source": [
    " Checking overfitting"
   ]
  },
  {
   "cell_type": "markdown",
   "id": "6ec51114",
   "metadata": {},
   "source": [
    "#### Pruning Techniques"
   ]
  },
  {
   "cell_type": "markdown",
   "id": "2e5a4dae",
   "metadata": {},
   "source": [
    "#### Max Depth"
   ]
  },
  {
   "cell_type": "code",
   "execution_count": 31,
   "id": "09e83e7a",
   "metadata": {},
   "outputs": [
    {
     "name": "stdout",
     "output_type": "stream",
     "text": [
      " max depth of 1 is 0.5283018867924528 \n",
      " max depth of 2 is 0.7138364779874213 \n",
      " max depth of 3 is 0.7955974842767296 \n",
      " max depth of 4 is 0.8867924528301887 \n",
      " max depth of 5 is 0.9182389937106918 \n",
      " max depth of 6 is 0.9213836477987422 \n",
      " max depth of 7 is 0.9842767295597484 \n",
      " max depth of 8 is 0.9842767295597484 \n",
      " max depth of 9 is 0.9842767295597484 \n",
      " max depth of 10 is 1.0 \n",
      " max depth of 11 is 1.0 \n",
      " max depth of 12 is 0.9968553459119497 \n",
      " max depth of 13 is 1.0 \n",
      " max depth of 14 is 1.0 \n",
      " max depth of 15 is 1.0 \n",
      " max depth of 16 is 0.9968553459119497 \n",
      " max depth of 17 is 1.0 \n",
      " max depth of 18 is 1.0 \n",
      " max depth of 19 is 1.0 \n",
      " max depth of 20 is 1.0 \n",
      " max depth of 21 is 1.0 \n",
      " max depth of 22 is 0.9968553459119497 \n",
      " max depth of 23 is 1.0 \n",
      " max depth of 24 is 1.0 \n",
      " max depth of 25 is 0.9968553459119497 \n",
      " max depth of 26 is 0.9968553459119497 \n",
      " max depth of 27 is 1.0 \n",
      " max depth of 28 is 1.0 \n",
      " max depth of 29 is 1.0 \n"
     ]
    }
   ],
   "source": [
    "for i in range(1,30):\n",
    "    dt1 = DecisionTreeClassifier(max_depth = i)\n",
    "    dt1.fit(xtrain,ytrain)\n",
    "    ypred = dt1.predict(xtest)\n",
    "    ac = accuracy_score(ytest,ypred)\n",
    "    print(f\" max depth of {i} is {ac} \")"
   ]
  },
  {
   "cell_type": "code",
   "execution_count": 32,
   "id": "e7d4dd04",
   "metadata": {},
   "outputs": [
    {
     "name": "stdout",
     "output_type": "stream",
     "text": [
      "Accuracy_Score 0.9811320754716981 \n",
      "Classification_Report               precision    recall  f1-score   support\n",
      "\n",
      "           0       0.99      0.93      0.96        71\n",
      "           1       0.99      1.00      1.00       142\n",
      "           2       0.96      0.99      0.98       105\n",
      "\n",
      "    accuracy                           0.98       318\n",
      "   macro avg       0.98      0.97      0.98       318\n",
      "weighted avg       0.98      0.98      0.98       318\n",
      " \n"
     ]
    }
   ],
   "source": [
    "dt2 = DecisionTreeClassifier(max_depth = 7) #8\n",
    "mm(dt2)"
   ]
  },
  {
   "cell_type": "markdown",
   "id": "68a38b29",
   "metadata": {},
   "source": [
    " Rebuilding model with the 'max_depth' pruning technique and the classification report is printed.\n",
    " \n",
    " I am getting accuracy of 98% by using \"max_depth\" Pruning Techniques in DecisionTree."
   ]
  },
  {
   "cell_type": "code",
   "execution_count": 33,
   "id": "30e09c1f",
   "metadata": {},
   "outputs": [
    {
     "data": {
      "text/plain": [
       "0.9676113360323887"
      ]
     },
     "execution_count": 33,
     "metadata": {},
     "output_type": "execute_result"
    }
   ],
   "source": [
    "dt2.score(xtrain,ytrain)"
   ]
  },
  {
   "cell_type": "code",
   "execution_count": 34,
   "id": "31b614c2",
   "metadata": {},
   "outputs": [
    {
     "data": {
      "text/plain": [
       "0.9811320754716981"
      ]
     },
     "execution_count": 34,
     "metadata": {},
     "output_type": "execute_result"
    }
   ],
   "source": [
    "dt2.score(xtest,ytest)"
   ]
  },
  {
   "cell_type": "markdown",
   "id": "04f43fcc",
   "metadata": {},
   "source": [
    " Checking Overfitting"
   ]
  },
  {
   "cell_type": "markdown",
   "id": "8da9f098",
   "metadata": {},
   "source": [
    "#### Min Sample Leaf"
   ]
  },
  {
   "cell_type": "code",
   "execution_count": 35,
   "id": "c9dc123c",
   "metadata": {
    "scrolled": true
   },
   "outputs": [
    {
     "name": "stdout",
     "output_type": "stream",
     "text": [
      " min sample leaf of 1 is 0.9968553459119497 \n",
      " min sample leaf of 2 is 1.0 \n",
      " min sample leaf of 3 is 0.9968553459119497 \n",
      " min sample leaf of 4 is 0.9968553459119497 \n",
      " min sample leaf of 5 is 0.9842767295597484 \n",
      " min sample leaf of 6 is 0.9842767295597484 \n",
      " min sample leaf of 7 is 0.9842767295597484 \n",
      " min sample leaf of 8 is 0.9842767295597484 \n",
      " min sample leaf of 9 is 0.9842767295597484 \n",
      " min sample leaf of 10 is 0.9842767295597484 \n",
      " min sample leaf of 11 is 0.9842767295597484 \n",
      " min sample leaf of 12 is 0.9842767295597484 \n",
      " min sample leaf of 13 is 0.9559748427672956 \n",
      " min sample leaf of 14 is 0.9559748427672956 \n",
      " min sample leaf of 15 is 0.9528301886792453 \n",
      " min sample leaf of 16 is 0.9308176100628931 \n",
      " min sample leaf of 17 is 0.9308176100628931 \n",
      " min sample leaf of 18 is 0.9308176100628931 \n",
      " min sample leaf of 19 is 0.9308176100628931 \n",
      " min sample leaf of 20 is 0.9308176100628931 \n",
      " min sample leaf of 21 is 0.9308176100628931 \n",
      " min sample leaf of 22 is 0.9308176100628931 \n",
      " min sample leaf of 23 is 0.9308176100628931 \n",
      " min sample leaf of 24 is 0.9308176100628931 \n",
      " min sample leaf of 25 is 0.9308176100628931 \n",
      " min sample leaf of 26 is 0.9213836477987422 \n",
      " min sample leaf of 27 is 0.9213836477987422 \n",
      " min sample leaf of 28 is 0.9213836477987422 \n",
      " min sample leaf of 29 is 0.9213836477987422 \n",
      " min sample leaf of 30 is 0.9213836477987422 \n",
      " min sample leaf of 31 is 0.9213836477987422 \n",
      " min sample leaf of 32 is 0.9213836477987422 \n",
      " min sample leaf of 33 is 0.9213836477987422 \n",
      " min sample leaf of 34 is 0.9213836477987422 \n",
      " min sample leaf of 35 is 0.9213836477987422 \n",
      " min sample leaf of 36 is 0.9213836477987422 \n",
      " min sample leaf of 37 is 0.9213836477987422 \n",
      " min sample leaf of 38 is 0.9213836477987422 \n",
      " min sample leaf of 39 is 0.9213836477987422 \n",
      " min sample leaf of 40 is 0.9213836477987422 \n",
      " min sample leaf of 41 is 0.9213836477987422 \n",
      " min sample leaf of 42 is 0.9213836477987422 \n",
      " min sample leaf of 43 is 0.9213836477987422 \n",
      " min sample leaf of 44 is 0.9213836477987422 \n",
      " min sample leaf of 45 is 0.9213836477987422 \n",
      " min sample leaf of 46 is 0.9213836477987422 \n",
      " min sample leaf of 47 is 0.9213836477987422 \n",
      " min sample leaf of 48 is 0.9213836477987422 \n",
      " min sample leaf of 49 is 0.8679245283018868 \n",
      " min sample leaf of 50 is 0.8679245283018868 \n",
      " min sample leaf of 51 is 0.8679245283018868 \n",
      " min sample leaf of 52 is 0.8584905660377359 \n",
      " min sample leaf of 53 is 0.8584905660377359 \n",
      " min sample leaf of 54 is 0.8584905660377359 \n",
      " min sample leaf of 55 is 0.8584905660377359 \n",
      " min sample leaf of 56 is 0.8584905660377359 \n",
      " min sample leaf of 57 is 0.8584905660377359 \n",
      " min sample leaf of 58 is 0.8584905660377359 \n",
      " min sample leaf of 59 is 0.8584905660377359 \n",
      " min sample leaf of 60 is 0.8584905660377359 \n",
      " min sample leaf of 61 is 0.8584905660377359 \n",
      " min sample leaf of 62 is 0.8584905660377359 \n",
      " min sample leaf of 63 is 0.8584905660377359 \n",
      " min sample leaf of 64 is 0.8584905660377359 \n",
      " min sample leaf of 65 is 0.8584905660377359 \n",
      " min sample leaf of 66 is 0.8584905660377359 \n",
      " min sample leaf of 67 is 0.8584905660377359 \n",
      " min sample leaf of 68 is 0.8584905660377359 \n",
      " min sample leaf of 69 is 0.8584905660377359 \n",
      " min sample leaf of 70 is 0.8584905660377359 \n",
      " min sample leaf of 71 is 0.8584905660377359 \n",
      " min sample leaf of 72 is 0.8584905660377359 \n",
      " min sample leaf of 73 is 0.8584905660377359 \n",
      " min sample leaf of 74 is 0.8584905660377359 \n",
      " min sample leaf of 75 is 0.8584905660377359 \n",
      " min sample leaf of 76 is 0.8584905660377359 \n",
      " min sample leaf of 77 is 0.8584905660377359 \n",
      " min sample leaf of 78 is 0.8584905660377359 \n",
      " min sample leaf of 79 is 0.8584905660377359 \n",
      " min sample leaf of 80 is 0.8584905660377359 \n",
      " min sample leaf of 81 is 0.8584905660377359 \n",
      " min sample leaf of 82 is 0.8584905660377359 \n",
      " min sample leaf of 83 is 0.8584905660377359 \n",
      " min sample leaf of 84 is 0.8584905660377359 \n",
      " min sample leaf of 85 is 0.8584905660377359 \n",
      " min sample leaf of 86 is 0.8553459119496856 \n",
      " min sample leaf of 87 is 0.8553459119496856 \n",
      " min sample leaf of 88 is 0.8553459119496856 \n",
      " min sample leaf of 89 is 0.8553459119496856 \n"
     ]
    }
   ],
   "source": [
    "for i in range(1,90):\n",
    "    dt3 = DecisionTreeClassifier(min_samples_leaf = i)\n",
    "    dt3.fit(xtrain,ytrain)\n",
    "    ypred = dt3.predict(xtest)\n",
    "    ac = accuracy_score(ytest,ypred)\n",
    "    print(f\" min sample leaf of {i} is {ac} \")"
   ]
  },
  {
   "cell_type": "code",
   "execution_count": 36,
   "id": "4b6b6a89",
   "metadata": {},
   "outputs": [
    {
     "name": "stdout",
     "output_type": "stream",
     "text": [
      "Accuracy_Score 0.9213836477987422 \n",
      "Classification_Report               precision    recall  f1-score   support\n",
      "\n",
      "           0       0.99      0.94      0.96        71\n",
      "           1       1.00      0.86      0.92       142\n",
      "           2       0.81      0.99      0.89       105\n",
      "\n",
      "    accuracy                           0.92       318\n",
      "   macro avg       0.93      0.93      0.93       318\n",
      "weighted avg       0.93      0.92      0.92       318\n",
      " \n"
     ]
    }
   ],
   "source": [
    "dt4 = DecisionTreeClassifier(min_samples_leaf = 30)\n",
    "mm(dt4)"
   ]
  },
  {
   "cell_type": "markdown",
   "id": "c45a00d8",
   "metadata": {},
   "source": [
    " Rebuilding model with the 'min_samples_leaf' pruning technique and the classification report is printed.\n",
    " \n",
    "  I am getting accuracy of 92% by using \"min_samples_leaf\" Pruning Techniques in DecisionTree."
   ]
  },
  {
   "cell_type": "code",
   "execution_count": 37,
   "id": "c85f1cc2",
   "metadata": {},
   "outputs": [
    {
     "data": {
      "text/plain": [
       "0.9244264507422402"
      ]
     },
     "execution_count": 37,
     "metadata": {},
     "output_type": "execute_result"
    }
   ],
   "source": [
    "dt4.score(xtrain,ytrain)"
   ]
  },
  {
   "cell_type": "code",
   "execution_count": 38,
   "id": "d341568d",
   "metadata": {},
   "outputs": [
    {
     "data": {
      "text/plain": [
       "0.9213836477987422"
      ]
     },
     "execution_count": 38,
     "metadata": {},
     "output_type": "execute_result"
    }
   ],
   "source": [
    "dt4.score(xtest,ytest)"
   ]
  },
  {
   "cell_type": "markdown",
   "id": "3fc57e03",
   "metadata": {},
   "source": [
    " Checking Overfitting"
   ]
  },
  {
   "cell_type": "markdown",
   "id": "627ec0be",
   "metadata": {},
   "source": [
    "#### Min Sample Split"
   ]
  },
  {
   "cell_type": "code",
   "execution_count": 39,
   "id": "d0c0d4e0",
   "metadata": {},
   "outputs": [
    {
     "name": "stdout",
     "output_type": "stream",
     "text": [
      " min sample split of 2 is 0.9968553459119497 \n",
      " min sample split of 3 is 1.0 \n",
      " min sample split of 4 is 0.9968553459119497 \n",
      " min sample split of 5 is 0.9968553459119497 \n",
      " min sample split of 6 is 0.9968553459119497 \n",
      " min sample split of 7 is 1.0 \n",
      " min sample split of 8 is 0.9968553459119497 \n",
      " min sample split of 9 is 1.0 \n",
      " min sample split of 10 is 1.0 \n",
      " min sample split of 11 is 1.0 \n",
      " min sample split of 12 is 0.9968553459119497 \n",
      " min sample split of 13 is 0.9968553459119497 \n",
      " min sample split of 14 is 1.0 \n",
      " min sample split of 15 is 1.0 \n",
      " min sample split of 16 is 1.0 \n",
      " min sample split of 17 is 0.9968553459119497 \n",
      " min sample split of 18 is 1.0 \n",
      " min sample split of 19 is 1.0 \n",
      " min sample split of 20 is 0.9968553459119497 \n",
      " min sample split of 21 is 0.9968553459119497 \n",
      " min sample split of 22 is 0.9968553459119497 \n",
      " min sample split of 23 is 0.9968553459119497 \n",
      " min sample split of 24 is 0.9842767295597484 \n",
      " min sample split of 25 is 0.9842767295597484 \n",
      " min sample split of 26 is 0.9842767295597484 \n",
      " min sample split of 27 is 0.9842767295597484 \n",
      " min sample split of 28 is 0.9842767295597484 \n",
      " min sample split of 29 is 0.9842767295597484 \n",
      " min sample split of 30 is 0.9842767295597484 \n",
      " min sample split of 31 is 0.9842767295597484 \n",
      " min sample split of 32 is 0.9842767295597484 \n",
      " min sample split of 33 is 0.9842767295597484 \n",
      " min sample split of 34 is 0.9842767295597484 \n",
      " min sample split of 35 is 0.9842767295597484 \n",
      " min sample split of 36 is 0.9842767295597484 \n",
      " min sample split of 37 is 0.9842767295597484 \n",
      " min sample split of 38 is 0.9842767295597484 \n",
      " min sample split of 39 is 0.9842767295597484 \n",
      " min sample split of 40 is 0.9842767295597484 \n",
      " min sample split of 41 is 0.9842767295597484 \n",
      " min sample split of 42 is 0.9842767295597484 \n",
      " min sample split of 43 is 0.9842767295597484 \n",
      " min sample split of 44 is 0.9842767295597484 \n",
      " min sample split of 45 is 0.9842767295597484 \n",
      " min sample split of 46 is 0.9842767295597484 \n",
      " min sample split of 47 is 0.9842767295597484 \n",
      " min sample split of 48 is 0.9842767295597484 \n",
      " min sample split of 49 is 0.9842767295597484 \n",
      " min sample split of 50 is 0.9842767295597484 \n",
      " min sample split of 51 is 0.9842767295597484 \n",
      " min sample split of 52 is 0.9842767295597484 \n",
      " min sample split of 53 is 0.9842767295597484 \n",
      " min sample split of 54 is 0.9842767295597484 \n",
      " min sample split of 55 is 0.9842767295597484 \n",
      " min sample split of 56 is 0.9842767295597484 \n",
      " min sample split of 57 is 0.9842767295597484 \n",
      " min sample split of 58 is 0.9842767295597484 \n",
      " min sample split of 59 is 0.9842767295597484 \n",
      " min sample split of 60 is 0.9842767295597484 \n",
      " min sample split of 61 is 0.9842767295597484 \n",
      " min sample split of 62 is 0.9842767295597484 \n",
      " min sample split of 63 is 0.9842767295597484 \n",
      " min sample split of 64 is 0.9842767295597484 \n",
      " min sample split of 65 is 0.9842767295597484 \n",
      " min sample split of 66 is 0.9842767295597484 \n",
      " min sample split of 67 is 0.9842767295597484 \n",
      " min sample split of 68 is 0.9842767295597484 \n",
      " min sample split of 69 is 0.9842767295597484 \n",
      " min sample split of 70 is 0.9842767295597484 \n",
      " min sample split of 71 is 0.9842767295597484 \n",
      " min sample split of 72 is 0.9842767295597484 \n",
      " min sample split of 73 is 0.9842767295597484 \n",
      " min sample split of 74 is 0.9842767295597484 \n",
      " min sample split of 75 is 0.9842767295597484 \n",
      " min sample split of 76 is 0.9842767295597484 \n",
      " min sample split of 77 is 0.9842767295597484 \n",
      " min sample split of 78 is 0.9842767295597484 \n",
      " min sample split of 79 is 0.9842767295597484 \n",
      " min sample split of 80 is 0.9842767295597484 \n",
      " min sample split of 81 is 0.9842767295597484 \n",
      " min sample split of 82 is 0.9842767295597484 \n",
      " min sample split of 83 is 0.9842767295597484 \n",
      " min sample split of 84 is 0.9842767295597484 \n",
      " min sample split of 85 is 0.9842767295597484 \n",
      " min sample split of 86 is 0.9842767295597484 \n",
      " min sample split of 87 is 0.9842767295597484 \n",
      " min sample split of 88 is 0.9842767295597484 \n",
      " min sample split of 89 is 0.9842767295597484 \n",
      " min sample split of 90 is 0.9842767295597484 \n",
      " min sample split of 91 is 0.9842767295597484 \n",
      " min sample split of 92 is 0.9842767295597484 \n",
      " min sample split of 93 is 0.9842767295597484 \n",
      " min sample split of 94 is 0.9842767295597484 \n",
      " min sample split of 95 is 0.9842767295597484 \n",
      " min sample split of 96 is 0.9842767295597484 \n",
      " min sample split of 97 is 0.9842767295597484 \n",
      " min sample split of 98 is 0.9842767295597484 \n",
      " min sample split of 99 is 0.9842767295597484 \n",
      " min sample split of 100 is 0.9842767295597484 \n",
      " min sample split of 101 is 0.9842767295597484 \n",
      " min sample split of 102 is 0.9842767295597484 \n",
      " min sample split of 103 is 0.9842767295597484 \n",
      " min sample split of 104 is 0.9842767295597484 \n",
      " min sample split of 105 is 0.9842767295597484 \n",
      " min sample split of 106 is 0.9842767295597484 \n",
      " min sample split of 107 is 0.9842767295597484 \n",
      " min sample split of 108 is 0.9842767295597484 \n",
      " min sample split of 109 is 0.9842767295597484 \n",
      " min sample split of 110 is 0.9842767295597484 \n",
      " min sample split of 111 is 0.9842767295597484 \n",
      " min sample split of 112 is 0.9842767295597484 \n",
      " min sample split of 113 is 0.9842767295597484 \n",
      " min sample split of 114 is 0.9842767295597484 \n",
      " min sample split of 115 is 0.9842767295597484 \n",
      " min sample split of 116 is 0.9842767295597484 \n",
      " min sample split of 117 is 0.9842767295597484 \n",
      " min sample split of 118 is 0.9842767295597484 \n",
      " min sample split of 119 is 0.9842767295597484 \n",
      " min sample split of 120 is 0.9842767295597484 \n",
      " min sample split of 121 is 0.9842767295597484 \n",
      " min sample split of 122 is 0.9842767295597484 \n",
      " min sample split of 123 is 0.9842767295597484 \n",
      " min sample split of 124 is 0.9213836477987422 \n",
      " min sample split of 125 is 0.9213836477987422 \n",
      " min sample split of 126 is 0.9213836477987422 \n",
      " min sample split of 127 is 0.9213836477987422 \n",
      " min sample split of 128 is 0.9213836477987422 \n",
      " min sample split of 129 is 0.9213836477987422 \n",
      " min sample split of 130 is 0.9213836477987422 \n",
      " min sample split of 131 is 0.9213836477987422 \n",
      " min sample split of 132 is 0.9213836477987422 \n",
      " min sample split of 133 is 0.9213836477987422 \n",
      " min sample split of 134 is 0.9213836477987422 \n",
      " min sample split of 135 is 0.9213836477987422 \n",
      " min sample split of 136 is 0.9213836477987422 \n",
      " min sample split of 137 is 0.9213836477987422 \n",
      " min sample split of 138 is 0.9213836477987422 \n",
      " min sample split of 139 is 0.9213836477987422 \n",
      " min sample split of 140 is 0.9213836477987422 \n",
      " min sample split of 141 is 0.9213836477987422 \n",
      " min sample split of 142 is 0.9213836477987422 \n",
      " min sample split of 143 is 0.9213836477987422 \n",
      " min sample split of 144 is 0.9213836477987422 \n",
      " min sample split of 145 is 0.9213836477987422 \n",
      " min sample split of 146 is 0.9213836477987422 \n",
      " min sample split of 147 is 0.9213836477987422 \n",
      " min sample split of 148 is 0.9213836477987422 \n",
      " min sample split of 149 is 0.9213836477987422 \n",
      " min sample split of 150 is 0.9213836477987422 \n",
      " min sample split of 151 is 0.9213836477987422 \n",
      " min sample split of 152 is 0.9213836477987422 \n",
      " min sample split of 153 is 0.9213836477987422 \n",
      " min sample split of 154 is 0.9213836477987422 \n",
      " min sample split of 155 is 0.9213836477987422 \n",
      " min sample split of 156 is 0.9213836477987422 \n",
      " min sample split of 157 is 0.9213836477987422 \n",
      " min sample split of 158 is 0.9213836477987422 \n",
      " min sample split of 159 is 0.9213836477987422 \n",
      " min sample split of 160 is 0.9213836477987422 \n",
      " min sample split of 161 is 0.9213836477987422 \n",
      " min sample split of 162 is 0.9213836477987422 \n",
      " min sample split of 163 is 0.9213836477987422 \n",
      " min sample split of 164 is 0.9213836477987422 \n",
      " min sample split of 165 is 0.9213836477987422 \n",
      " min sample split of 166 is 0.9213836477987422 \n",
      " min sample split of 167 is 0.9213836477987422 \n",
      " min sample split of 168 is 0.9182389937106918 \n",
      " min sample split of 169 is 0.9182389937106918 \n",
      " min sample split of 170 is 0.9182389937106918 \n",
      " min sample split of 171 is 0.9182389937106918 \n",
      " min sample split of 172 is 0.9182389937106918 \n",
      " min sample split of 173 is 0.9182389937106918 \n",
      " min sample split of 174 is 0.9182389937106918 \n",
      " min sample split of 175 is 0.9182389937106918 \n",
      " min sample split of 176 is 0.9182389937106918 \n",
      " min sample split of 177 is 0.9182389937106918 \n",
      " min sample split of 178 is 0.9182389937106918 \n",
      " min sample split of 179 is 0.9182389937106918 \n",
      " min sample split of 180 is 0.8867924528301887 \n",
      " min sample split of 181 is 0.8867924528301887 \n",
      " min sample split of 182 is 0.8867924528301887 \n",
      " min sample split of 183 is 0.8867924528301887 \n",
      " min sample split of 184 is 0.8867924528301887 \n",
      " min sample split of 185 is 0.8867924528301887 \n",
      " min sample split of 186 is 0.8867924528301887 \n",
      " min sample split of 187 is 0.8867924528301887 \n",
      " min sample split of 188 is 0.8553459119496856 \n",
      " min sample split of 189 is 0.8553459119496856 \n",
      " min sample split of 190 is 0.8553459119496856 \n",
      " min sample split of 191 is 0.8553459119496856 \n",
      " min sample split of 192 is 0.8553459119496856 \n",
      " min sample split of 193 is 0.8553459119496856 \n",
      " min sample split of 194 is 0.8553459119496856 \n",
      " min sample split of 195 is 0.8553459119496856 \n",
      " min sample split of 196 is 0.8553459119496856 \n",
      " min sample split of 197 is 0.8553459119496856 \n",
      " min sample split of 198 is 0.8553459119496856 \n",
      " min sample split of 199 is 0.8553459119496856 \n"
     ]
    }
   ],
   "source": [
    "for i in range(2,200):\n",
    "    dt5 = DecisionTreeClassifier(min_samples_split = i)\n",
    "    dt5.fit(xtrain,ytrain)\n",
    "    ypred = dt5.predict(xtest)\n",
    "    ac = accuracy_score(ytest,ypred)\n",
    "    print(f\" min sample split of {i} is {ac} \")"
   ]
  },
  {
   "cell_type": "code",
   "execution_count": 40,
   "id": "6926655e",
   "metadata": {},
   "outputs": [
    {
     "name": "stdout",
     "output_type": "stream",
     "text": [
      "Accuracy_Score 0.9213836477987422 \n",
      "Classification_Report               precision    recall  f1-score   support\n",
      "\n",
      "           0       0.74      1.00      0.85        71\n",
      "           1       1.00      1.00      1.00       142\n",
      "           2       1.00      0.76      0.86       105\n",
      "\n",
      "    accuracy                           0.92       318\n",
      "   macro avg       0.91      0.92      0.91       318\n",
      "weighted avg       0.94      0.92      0.92       318\n",
      " \n"
     ]
    }
   ],
   "source": [
    "dt6 = DecisionTreeClassifier(min_samples_split = 148) #39\n",
    "mm(dt6)"
   ]
  },
  {
   "cell_type": "markdown",
   "id": "34e46178",
   "metadata": {},
   "source": [
    " Rebuilding model with the 'min_samples_split' pruning technique and the classification report is printed.\n",
    " \n",
    "   I am getting accuracy of 92% by using \"min_samples_split\" Pruning Techniques in DecisionTree."
   ]
  },
  {
   "cell_type": "code",
   "execution_count": 41,
   "id": "320a90ba",
   "metadata": {},
   "outputs": [
    {
     "data": {
      "text/plain": [
       "0.9176788124156545"
      ]
     },
     "execution_count": 41,
     "metadata": {},
     "output_type": "execute_result"
    }
   ],
   "source": [
    "dt6.score(xtrain,ytrain)"
   ]
  },
  {
   "cell_type": "code",
   "execution_count": 42,
   "id": "2bb32ef8",
   "metadata": {},
   "outputs": [
    {
     "data": {
      "text/plain": [
       "0.9213836477987422"
      ]
     },
     "execution_count": 42,
     "metadata": {},
     "output_type": "execute_result"
    }
   ],
   "source": [
    "dt6.score(xtest,ytest)"
   ]
  },
  {
   "cell_type": "markdown",
   "id": "4ea3c5f1",
   "metadata": {},
   "source": [
    " Checking OverFitting"
   ]
  },
  {
   "cell_type": "markdown",
   "id": "5090f60f",
   "metadata": {},
   "source": [
    "#### In Decision Tree \"mean_sample_leaf\" Pruning Technique is giving us the best Accuracy of 92% with no overfitting"
   ]
  },
  {
   "cell_type": "code",
   "execution_count": null,
   "id": "e09a7ebd",
   "metadata": {},
   "outputs": [],
   "source": []
  },
  {
   "cell_type": "code",
   "execution_count": null,
   "id": "fec7bcd2",
   "metadata": {},
   "outputs": [],
   "source": []
  }
 ],
 "metadata": {
  "kernelspec": {
   "display_name": "Python 3 (ipykernel)",
   "language": "python",
   "name": "python3"
  },
  "language_info": {
   "codemirror_mode": {
    "name": "ipython",
    "version": 3
   },
   "file_extension": ".py",
   "mimetype": "text/x-python",
   "name": "python",
   "nbconvert_exporter": "python",
   "pygments_lexer": "ipython3",
   "version": "3.10.9"
  }
 },
 "nbformat": 4,
 "nbformat_minor": 5
}
